{
 "cells": [
  {
   "cell_type": "markdown",
   "id": "75e7d7ab-38e8-4b7b-9153-6625f772cc13",
   "metadata": {},
   "source": [
    "# Data Science Tools and Ecosystem"
   ]
  },
  {
   "cell_type": "markdown",
   "id": "cb59977d-8526-4b7e-a28c-06d44161eb97",
   "metadata": {},
   "source": [
    "## In this notebook, Data Science Tools and Ecosystem are summarized."
   ]
  },
  {
   "cell_type": "markdown",
   "id": "4b1e9e53-428f-4557-9f1f-244c6a1df8d0",
   "metadata": {},
   "source": [
    "# Objective:"
   ]
  },
  {
   "cell_type": "markdown",
   "id": "0a4f859b-ff1b-4f8e-a561-c4348ea9b140",
   "metadata": {},
   "source": [
    "* list of popular languages for data science"
   ]
  },
  {
   "cell_type": "markdown",
   "id": "7ea65618-58fa-473d-a9a8-13d4d23ec3d0",
   "metadata": {},
   "source": [
    "* List of commonly used libraries in data science"
   ]
  },
  {
   "cell_type": "markdown",
   "id": "06493c55-f431-46b5-9c13-027dac6e1f33",
   "metadata": {},
   "source": [
    "* Data science tools"
   ]
  },
  {
   "cell_type": "markdown",
   "id": "dabee408-6447-4b82-908f-e09dd604e929",
   "metadata": {},
   "source": [
    "### Some of the popular languages that Data Scientists use are :"
   ]
  },
  {
   "cell_type": "markdown",
   "id": "2571d5d8-d209-4a63-99a2-3906de693dde",
   "metadata": {},
   "source": [
    "1. Python"
   ]
  },
  {
   "cell_type": "markdown",
   "id": "f55bfc1e-ed08-4bd4-a785-fa549095b262",
   "metadata": {},
   "source": [
    "2. R"
   ]
  },
  {
   "cell_type": "markdown",
   "id": "99ea511b-feaa-47a2-bf22-0042357082cc",
   "metadata": {},
   "source": [
    "3. SQL"
   ]
  },
  {
   "cell_type": "markdown",
   "id": "a19d35f0-6e68-4c53-8893-dcc6b5bd26e3",
   "metadata": {},
   "source": [
    "### Some of the commonly used libraries used by Data Scientists include :"
   ]
  },
  {
   "cell_type": "markdown",
   "id": "ce0c0183-2ea2-448a-8496-01e912298c86",
   "metadata": {},
   "source": [
    "1. Pandas"
   ]
  },
  {
   "cell_type": "markdown",
   "id": "0a073caf-667c-444d-8c59-9f2b84518ed5",
   "metadata": {},
   "source": [
    "2. Numpy"
   ]
  },
  {
   "cell_type": "markdown",
   "id": "012d4daa-12ed-423f-b8e0-800f41e02735",
   "metadata": {},
   "source": [
    "3. Matplotlib"
   ]
  },
  {
   "cell_type": "markdown",
   "id": "a5450dc5-12ca-4e8d-93af-04d8e3e10d72",
   "metadata": {},
   "source": [
    "### Data Science tools"
   ]
  },
  {
   "cell_type": "markdown",
   "id": "1f2e3626-00fa-46b1-9292-dabda2e89db8",
   "metadata": {},
   "source": [
    "-----------"
   ]
  },
  {
   "cell_type": "markdown",
   "id": "246fecd1-2642-40ed-aac0-287139de60d5",
   "metadata": {},
   "source": [
    "apache hadoop"
   ]
  },
  {
   "cell_type": "markdown",
   "id": "3e11757e-7be6-44c2-ae13-c0fb0a4a5534",
   "metadata": {},
   "source": [
    "apache spark"
   ]
  },
  {
   "cell_type": "markdown",
   "id": "7b9eb059-37df-4721-833e-ce8ee329b37b",
   "metadata": {},
   "source": [
    "Pandas"
   ]
  },
  {
   "cell_type": "markdown",
   "id": "b42f758e-fff5-4082-8458-a1c792c0acb6",
   "metadata": {},
   "source": [
    "#### Below are a few examples of evaluating arithmatic expressions in Python"
   ]
  },
  {
   "cell_type": "markdown",
   "id": "95f217d4-ea52-4ccc-becb-ae3e89512eb1",
   "metadata": {},
   "source": [
    "This a simple arithmetic expression to multiply then add integers"
   ]
  },
  {
   "cell_type": "code",
   "execution_count": 2,
   "id": "13b25106-4bac-4c32-9891-f6c6a0b6fc60",
   "metadata": {},
   "outputs": [
    {
     "data": {
      "text/plain": [
       "17"
      ]
     },
     "execution_count": 2,
     "metadata": {},
     "output_type": "execute_result"
    }
   ],
   "source": [
    "(3*4)+5"
   ]
  },
  {
   "cell_type": "markdown",
   "id": "a3b5a3e0-cd86-4513-805f-996c976342c5",
   "metadata": {},
   "source": [
    " ## This will convert 200 minutes to hours by dividing by 60 "
   ]
  },
  {
   "cell_type": "code",
   "execution_count": 3,
   "id": "e759135e-38b0-4672-ba53-d2652c69e622",
   "metadata": {},
   "outputs": [
    {
     "data": {
      "text/plain": [
       "3.3333333333333335"
      ]
     },
     "execution_count": 3,
     "metadata": {},
     "output_type": "execute_result"
    }
   ],
   "source": [
    "(200/60)"
   ]
  },
  {
   "cell_type": "markdown",
   "id": "151c4952-cab5-4854-89bd-cfe4543f9305",
   "metadata": {},
   "source": [
    "# Author"
   ]
  },
  {
   "cell_type": "markdown",
   "id": "7acb7537-6ea9-4544-868d-f58fbe35c9aa",
   "metadata": {},
   "source": [
    "Arjit Das"
   ]
  },
  {
   "cell_type": "code",
   "execution_count": null,
   "id": "55f28613-3992-4e11-804a-f50c64697175",
   "metadata": {},
   "outputs": [],
   "source": []
  }
 ],
 "metadata": {
  "kernelspec": {
   "display_name": "Python 3 (ipykernel)",
   "language": "python",
   "name": "python3"
  },
  "language_info": {
   "codemirror_mode": {
    "name": "ipython",
    "version": 3
   },
   "file_extension": ".py",
   "mimetype": "text/x-python",
   "name": "python",
   "nbconvert_exporter": "python",
   "pygments_lexer": "ipython3",
   "version": "3.11.7"
  }
 },
 "nbformat": 4,
 "nbformat_minor": 5
}
